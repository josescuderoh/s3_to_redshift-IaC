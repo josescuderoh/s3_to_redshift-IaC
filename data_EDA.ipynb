{
 "metadata": {
  "language_info": {
   "codemirror_mode": {
    "name": "ipython",
    "version": 3
   },
   "file_extension": ".py",
   "mimetype": "text/x-python",
   "name": "python",
   "nbconvert_exporter": "python",
   "pygments_lexer": "ipython3",
   "version": "3.8.3-final"
  },
  "orig_nbformat": 2,
  "kernelspec": {
   "name": "python3",
   "display_name": "Python 3",
   "language": "python"
  }
 },
 "nbformat": 4,
 "nbformat_minor": 2,
 "cells": [
  {
   "cell_type": "code",
   "execution_count": 1,
   "metadata": {},
   "outputs": [],
   "source": [
    "import boto3\n",
    "import configparser"
   ]
  },
  {
   "cell_type": "code",
   "execution_count": 3,
   "metadata": {},
   "outputs": [],
   "source": [
    "config = configparser.ConfigParser()\n",
    "config.read_file(open('aws.cfg'))\n",
    "\n",
    "KEY=config.get('AWS','key')\n",
    "SECRET= config.get('AWS','secret')"
   ]
  },
  {
   "cell_type": "code",
   "execution_count": 4,
   "metadata": {},
   "outputs": [],
   "source": [
    "config = configparser.ConfigParser()\n",
    "config.read_file(open('dwh.cfg'))\n",
    "\n",
    "bucket_data=config.get('S3','log_data')"
   ]
  },
  {
   "cell_type": "code",
   "execution_count": 5,
   "metadata": {},
   "outputs": [],
   "source": [
    "s3 = boto3.resource('s3',\n",
    "                       region_name=\"us-west-2\",\n",
    "                       aws_access_key_id=KEY,\n",
    "                       aws_secret_access_key=SECRET\n",
    "                     )"
   ]
  },
  {
   "cell_type": "code",
   "execution_count": 26,
   "metadata": {},
   "outputs": [
    {
     "output_type": "execute_result",
     "data": {
      "text/plain": [
       "\"'s3://udacity-dend/log-data'\""
      ]
     },
     "metadata": {},
     "execution_count": 26
    }
   ],
   "source": [
    "bucket_data"
   ]
  },
  {
   "cell_type": "code",
   "execution_count": 27,
   "metadata": {},
   "outputs": [],
   "source": [
    "projectBucket =  s3.Bucket('udacity-dend')"
   ]
  },
  {
   "cell_type": "code",
   "execution_count": 55,
   "metadata": {},
   "outputs": [
    {
     "output_type": "stream",
     "name": "stdout",
     "text": [
      "s3.ObjectSummary(bucket_name='udacity-dend', key='log-data/')\n0\ns3.ObjectSummary(bucket_name='udacity-dend', key='log-data/2018/11/2018-11-01-events.json')\n7151\ns3.ObjectSummary(bucket_name='udacity-dend', key='log-data/2018/11/2018-11-02-events.json')\n83585\ns3.ObjectSummary(bucket_name='udacity-dend', key='log-data/2018/11/2018-11-03-events.json')\n54084\ns3.ObjectSummary(bucket_name='udacity-dend', key='log-data/2018/11/2018-11-04-events.json')\n85671\ns3.ObjectSummary(bucket_name='udacity-dend', key='log-data/2018/11/2018-11-05-events.json')\n189295\ns3.ObjectSummary(bucket_name='udacity-dend', key='log-data/2018/11/2018-11-06-events.json')\n85373\ns3.ObjectSummary(bucket_name='udacity-dend', key='log-data/2018/11/2018-11-07-events.json')\n97519\ns3.ObjectSummary(bucket_name='udacity-dend', key='log-data/2018/11/2018-11-08-events.json')\n102218\ns3.ObjectSummary(bucket_name='udacity-dend', key='log-data/2018/11/2018-11-09-events.json')\n134804\ns3.ObjectSummary(bucket_name='udacity-dend', key='log-data/2018/11/2018-11-10-events.json')\n44076\ns3.ObjectSummary(bucket_name='udacity-dend', key='log-data/2018/11/2018-11-11-events.json')\n43711\ns3.ObjectSummary(bucket_name='udacity-dend', key='log-data/2018/11/2018-11-12-events.json')\n99854\ns3.ObjectSummary(bucket_name='udacity-dend', key='log-data/2018/11/2018-11-13-events.json')\n186826\ns3.ObjectSummary(bucket_name='udacity-dend', key='log-data/2018/11/2018-11-14-events.json')\n217264\ns3.ObjectSummary(bucket_name='udacity-dend', key='log-data/2018/11/2018-11-15-events.json')\n243143\ns3.ObjectSummary(bucket_name='udacity-dend', key='log-data/2018/11/2018-11-16-events.json')\n175491\ns3.ObjectSummary(bucket_name='udacity-dend', key='log-data/2018/11/2018-11-17-events.json')\n66164\ns3.ObjectSummary(bucket_name='udacity-dend', key='log-data/2018/11/2018-11-18-events.json')\n75763\ns3.ObjectSummary(bucket_name='udacity-dend', key='log-data/2018/11/2018-11-19-events.json')\n150798\ns3.ObjectSummary(bucket_name='udacity-dend', key='log-data/2018/11/2018-11-20-events.json')\n174991\ns3.ObjectSummary(bucket_name='udacity-dend', key='log-data/2018/11/2018-11-21-events.json')\n242588\ns3.ObjectSummary(bucket_name='udacity-dend', key='log-data/2018/11/2018-11-22-events.json')\n46181\ns3.ObjectSummary(bucket_name='udacity-dend', key='log-data/2018/11/2018-11-23-events.json')\n138647\ns3.ObjectSummary(bucket_name='udacity-dend', key='log-data/2018/11/2018-11-24-events.json')\n170219\ns3.ObjectSummary(bucket_name='udacity-dend', key='log-data/2018/11/2018-11-25-events.json')\n26214\ns3.ObjectSummary(bucket_name='udacity-dend', key='log-data/2018/11/2018-11-26-events.json')\n123576\ns3.ObjectSummary(bucket_name='udacity-dend', key='log-data/2018/11/2018-11-27-events.json')\n141625\ns3.ObjectSummary(bucket_name='udacity-dend', key='log-data/2018/11/2018-11-28-events.json')\n202910\ns3.ObjectSummary(bucket_name='udacity-dend', key='log-data/2018/11/2018-11-29-events.json')\n168646\ns3.ObjectSummary(bucket_name='udacity-dend', key='log-data/2018/11/2018-11-30-events.json')\n177211\n"
     ]
    }
   ],
   "source": [
    "count=0\n",
    "size=[]\n",
    "for obj in projectBucket.objects.filter(Prefix='log-data'):\n",
    "    count+=1\n",
    "    print(obj)\n",
    "    print(obj.size)"
   ]
  },
  {
   "cell_type": "code",
   "execution_count": 59,
   "metadata": {
    "tags": []
   },
   "outputs": [
    {
     "output_type": "stream",
     "name": "stdout",
     "text": [
      "s3.ObjectSummary(bucket_name='udacity-dend', key='song-data/')\ns3.ObjectSummary(bucket_name='udacity-dend', key='song-data/A/A/A/TRAAAAK128F9318786.json')\n"
     ]
    }
   ],
   "source": [
    "count=0\n",
    "size=[]\n",
    "for obj in projectBucket.objects.filter(Prefix='song-data'):\n",
    "    count+=1\n",
    "    print(obj)\n",
    "    if count ==2:\n",
    "        break"
   ]
  },
  {
   "cell_type": "code",
   "execution_count": null,
   "metadata": {},
   "outputs": [],
   "source": [
    "count"
   ]
  }
 ]
}